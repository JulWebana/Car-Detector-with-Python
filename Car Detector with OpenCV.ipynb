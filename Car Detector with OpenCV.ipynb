{
 "cells": [
  {
   "cell_type": "code",
   "execution_count": 1,
   "id": "2bb48bb2",
   "metadata": {},
   "outputs": [],
   "source": [
    "import cv2"
   ]
  },
  {
   "cell_type": "code",
   "execution_count": 2,
   "id": "8d7c21ca",
   "metadata": {},
   "outputs": [
    {
     "name": "stdout",
     "output_type": "stream",
     "text": [
      "4.5.5\n"
     ]
    }
   ],
   "source": [
    "print(cv2.__version__)"
   ]
  },
  {
   "cell_type": "code",
   "execution_count": 3,
   "id": "fea981b9",
   "metadata": {},
   "outputs": [],
   "source": [
    "# Initiate video capture for video file\n",
    "cap = cv2.VideoCapture('Road1.mp4')\n",
    "\n",
    "# Create our body classifier\n",
    "car_cascade = cv2.CascadeClassifier('haarcascade_car.xml')\n",
    "\n",
    "while True:\n",
    "    ret, img = cap.read()\n",
    "    if (type(img) == type(None)):\n",
    "        break\n",
    "    \n",
    "    gray = cv2.cvtColor(img, cv2.COLOR_BGR2GRAY) # This line turns frame into gray because we don’t need a colored image and \n",
    "                                                 # also this step increases the speed of the process as it takes less time to \n",
    "                                                 # load the gray frame.\n",
    "    \n",
    "    \n",
    "    cars = car_cascade.detectMultiScale(gray, 1.1, 1)  # Pass frame to our car classifier\n",
    "   \n",
    "    \n",
    "    for (x,y,w,h) in cars:                            # Extract bounding boxes for any bodies identified\n",
    "        cv2.rectangle(img,(x,y),(x+w,y+h),(0,0,255),2)      \n",
    "        cv2.imshow('video', img)\n",
    "    \n",
    "    if cv2.waitKey(33) == 27:\n",
    "        break\n",
    "\n",
    "cap.release()\n",
    "cv2.destroyAllWindows()"
   ]
  },
  {
   "cell_type": "markdown",
   "id": "370b305d",
   "metadata": {},
   "source": [
    "## END"
   ]
  }
 ],
 "metadata": {
  "kernelspec": {
   "display_name": "Python 3 (ipykernel)",
   "language": "python",
   "name": "python3"
  },
  "language_info": {
   "codemirror_mode": {
    "name": "ipython",
    "version": 3
   },
   "file_extension": ".py",
   "mimetype": "text/x-python",
   "name": "python",
   "nbconvert_exporter": "python",
   "pygments_lexer": "ipython3",
   "version": "3.9.7"
  }
 },
 "nbformat": 4,
 "nbformat_minor": 5
}
